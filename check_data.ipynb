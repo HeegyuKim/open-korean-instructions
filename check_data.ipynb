{
 "cells": [
  {
   "cell_type": "code",
   "execution_count": 1,
   "metadata": {},
   "outputs": [],
   "source": [
    "import pandas as pd"
   ]
  },
  {
   "cell_type": "code",
   "execution_count": 2,
   "metadata": {},
   "outputs": [
    {
     "data": {
      "text/html": [
       "<div>\n",
       "<style scoped>\n",
       "    .dataframe tbody tr th:only-of-type {\n",
       "        vertical-align: middle;\n",
       "    }\n",
       "\n",
       "    .dataframe tbody tr th {\n",
       "        vertical-align: top;\n",
       "    }\n",
       "\n",
       "    .dataframe thead th {\n",
       "        text-align: right;\n",
       "    }\n",
       "</style>\n",
       "<table border=\"1\" class=\"dataframe\">\n",
       "  <thead>\n",
       "    <tr style=\"text-align: right;\">\n",
       "      <th></th>\n",
       "      <th>source</th>\n",
       "      <th>text</th>\n",
       "    </tr>\n",
       "  </thead>\n",
       "  <tbody>\n",
       "    <tr>\n",
       "      <th>0</th>\n",
       "      <td>OIG-smallchip2-ko</td>\n",
       "      <td>&lt;usr&gt; 유언장이 있는 것이 좋다는 말을 들었습니다. 유언장이란 무엇입니까?\\n&lt;...</td>\n",
       "    </tr>\n",
       "    <tr>\n",
       "      <th>1</th>\n",
       "      <td>OIG-smallchip2-ko</td>\n",
       "      <td>&lt;usr&gt; 일자리는 어떻게 찾나요?\\n&lt;bot&gt; 직업을 찾는 가장 좋은 방법은 자신...</td>\n",
       "    </tr>\n",
       "    <tr>\n",
       "      <th>2</th>\n",
       "      <td>OIG-smallchip2-ko</td>\n",
       "      <td>&lt;usr&gt; 돔형 천장, 기둥 및 문이 있는 맨션 내부의 우울한 장면에 대한 상세한 ...</td>\n",
       "    </tr>\n",
       "    <tr>\n",
       "      <th>3</th>\n",
       "      <td>OIG-smallchip2-ko</td>\n",
       "      <td>&lt;usr&gt; 저는 발목이 삔 상태이고 더 빨리 낫도록 돕기 위해 제가 무엇을 할 수 ...</td>\n",
       "    </tr>\n",
       "    <tr>\n",
       "      <th>4</th>\n",
       "      <td>OIG-smallchip2-ko</td>\n",
       "      <td>&lt;usr&gt; 칠면조는 어떻게 구우나요?\\n&lt;bot&gt; 칠면조를 구우려면 먼저 오븐을 화...</td>\n",
       "    </tr>\n",
       "    <tr>\n",
       "      <th>...</th>\n",
       "      <td>...</td>\n",
       "      <td>...</td>\n",
       "    </tr>\n",
       "    <tr>\n",
       "      <th>210277</th>\n",
       "      <td>OIG-smallchip2-ko</td>\n",
       "      <td>&lt;usr&gt; 제 혀에 하얀 반점이 몇 개 생겼습니다. 그들은 무엇을 의미합니까?\\n&lt;...</td>\n",
       "    </tr>\n",
       "    <tr>\n",
       "      <th>210278</th>\n",
       "      <td>OIG-smallchip2-ko</td>\n",
       "      <td>&lt;usr&gt; 시중에서 가장 인기 있는 천연 미용 제품은 무엇입니까?\\n&lt;bot&gt; 시장...</td>\n",
       "    </tr>\n",
       "    <tr>\n",
       "      <th>210279</th>\n",
       "      <td>OIG-smallchip2-ko</td>\n",
       "      <td>&lt;usr&gt; Blit 터미널에 명령을 입력하면 실행되지 않는 것 같습니다. 왜 그런 ...</td>\n",
       "    </tr>\n",
       "    <tr>\n",
       "      <th>210280</th>\n",
       "      <td>OIG-smallchip2-ko</td>\n",
       "      <td>&lt;usr&gt; 사업을 시작하고 싶은데 방법에 대한 팁이 있나요?\\n&lt;bot&gt; 1. 계획...</td>\n",
       "    </tr>\n",
       "    <tr>\n",
       "      <th>210281</th>\n",
       "      <td>OIG-smallchip2-ko</td>\n",
       "      <td>&lt;usr&gt; 무료 온라인 회계 과정을 찾고 있습니다.\\n&lt;bot&gt; Coursera 및...</td>\n",
       "    </tr>\n",
       "  </tbody>\n",
       "</table>\n",
       "<p>210282 rows × 2 columns</p>\n",
       "</div>"
      ],
      "text/plain": [
       "                   source                                               text\n",
       "0       OIG-smallchip2-ko  <usr> 유언장이 있는 것이 좋다는 말을 들었습니다. 유언장이란 무엇입니까?\\n<...\n",
       "1       OIG-smallchip2-ko  <usr> 일자리는 어떻게 찾나요?\\n<bot> 직업을 찾는 가장 좋은 방법은 자신...\n",
       "2       OIG-smallchip2-ko  <usr> 돔형 천장, 기둥 및 문이 있는 맨션 내부의 우울한 장면에 대한 상세한 ...\n",
       "3       OIG-smallchip2-ko  <usr> 저는 발목이 삔 상태이고 더 빨리 낫도록 돕기 위해 제가 무엇을 할 수 ...\n",
       "4       OIG-smallchip2-ko  <usr> 칠면조는 어떻게 구우나요?\\n<bot> 칠면조를 구우려면 먼저 오븐을 화...\n",
       "...                   ...                                                ...\n",
       "210277  OIG-smallchip2-ko  <usr> 제 혀에 하얀 반점이 몇 개 생겼습니다. 그들은 무엇을 의미합니까?\\n<...\n",
       "210278  OIG-smallchip2-ko  <usr> 시중에서 가장 인기 있는 천연 미용 제품은 무엇입니까?\\n<bot> 시장...\n",
       "210279  OIG-smallchip2-ko  <usr> Blit 터미널에 명령을 입력하면 실행되지 않는 것 같습니다. 왜 그런 ...\n",
       "210280  OIG-smallchip2-ko  <usr> 사업을 시작하고 싶은데 방법에 대한 팁이 있나요?\\n<bot> 1. 계획...\n",
       "210281  OIG-smallchip2-ko  <usr> 무료 온라인 회계 과정을 찾고 있습니다.\\n<bot> Coursera 및...\n",
       "\n",
       "[210282 rows x 2 columns]"
      ]
     },
     "execution_count": 2,
     "metadata": {},
     "output_type": "execute_result"
    }
   ],
   "source": [
    "data = pd.read_json(\"OKI-data/OIG-smallchip2-ko.json\", lines=True)\n",
    "data"
   ]
  },
  {
   "cell_type": "code",
   "execution_count": 4,
   "metadata": {},
   "outputs": [
    {
     "data": {
      "text/plain": [
       "1.0"
      ]
     },
     "execution_count": 4,
     "metadata": {},
     "output_type": "execute_result"
    }
   ],
   "source": [
    "data.text.str.contains(\"<bot>\").mean()"
   ]
  }
 ],
 "metadata": {
  "kernelspec": {
   "display_name": "base",
   "language": "python",
   "name": "python3"
  },
  "language_info": {
   "codemirror_mode": {
    "name": "ipython",
    "version": 3
   },
   "file_extension": ".py",
   "mimetype": "text/x-python",
   "name": "python",
   "nbconvert_exporter": "python",
   "pygments_lexer": "ipython3",
   "version": "3.9.12"
  },
  "orig_nbformat": 4
 },
 "nbformat": 4,
 "nbformat_minor": 2
}
