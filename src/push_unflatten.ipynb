{
 "cells": [
  {
   "cell_type": "code",
   "execution_count": 1,
   "metadata": {},
   "outputs": [],
   "source": [
    "import re\n",
    "import pandas as pd\n",
    "import jsonlines"
   ]
  },
  {
   "cell_type": "code",
   "execution_count": 2,
   "metadata": {},
   "outputs": [
    {
     "data": {
      "text/plain": [
       "{'messages': [{'role': 'human',\n",
       "   'content': \"Summarize the main ideas of Jeff Walker's Product Launch Formula into bullet points as it pertains to a growth marketing agency implementing these strategies and tactics for their clients...\"},\n",
       "  {'role': 'gpt',\n",
       "   'content': \"Here are the main ideas of Jeff Walker's Product Launch Formula that can be applied by a growth marketing agency for their clients:\\n\\n1. Identify the target audience and their needs: Understand the ideal customer for the product or service, and create a messaging that resonates with them.\\n2. Pre-launch: Build anticipation and excitement for the launch by creating buzz, gathering testimonials and case studies, and using social media to create awareness.\\n3. Launch: Use a well-crafted launch sequence to maximize sales and conversions. This can include offering bonuses, creating scarcity, and using a deadline to create urgency.\\n4. Post-launch: Follow up with customers, gather feedback, and continue to provide value to keep them engaged and loyal.\\n5. Create a product suite: Once the initial product is successful, expand the offering by creating additional products or services that address other needs of the same audience.\\n6. Continual optimization: Continually monitor and optimize the launch process and product suite to improve results.\\n7. Build a community: Use the launch process to build a community of customers who are passionate about the product and can help spread the word.\\n8. Use automation: Use technology and automation to streamline the launch process and improve efficiency.\"},\n",
       "  {'role': 'human',\n",
       "   'content': \"Summarize the main ideas of Brendon Burchard's Experts Academy into bullet points as it pertains to a growth marketing agency implementing these strategies and tactics for their clients...\"},\n",
       "  {'role': 'gpt',\n",
       "   'content': \"Here are the main ideas of Brendon Burchard's Experts Academy that can be applied by a growth marketing agency for their clients:\\n\\n1. Identify your expertise: Define your area of expertise and create a unique value proposition that differentiates you from others.\\n2. Create a content strategy: Develop a content strategy that showcases your expertise and provides value to your audience. This can include blog posts, videos, podcasts, and social media content.\\n3. Build your audience: Use social media, advertising, and other channels to build your audience and increase your visibility.\\n4. Develop your products: Create products and services that align with your expertise and meet the needs of your audience. These can include digital products, courses, coaching, and consulting services.\\n5. Create a brand: Develop a strong brand that reflects your expertise and resonates with your audience.\\n6. Build authority: Establish yourself as an authority in your industry by speaking at events, publishing a book, or appearing on podcasts or TV shows.\\n7. Monetize your expertise: Develop a monetization strategy that leverages your expertise and products to generate revenue.\\n8. Build a team: As your business grows, build a team of experts to help you scale your business and provide excellent service to your clients.\\n9. Continual improvement: Continually improve your products, services, and marketing strategies to stay ahead of the competition and provide the best possible experience for your clients.\\n10. Focus on impact: Ultimately, focus on making a positive impact in the lives of your clients and using your expertise to make a difference in the world.\"},\n",
       "  {'role': 'human',\n",
       "   'content': 'What are the mental triggers in Jeff Walker\\'s Product Launch Formula and \"Launch\" book?'},\n",
       "  {'role': 'gpt',\n",
       "   'content': 'Here are the mental triggers described in Jeff Walker\\'s Product Launch Formula and \"Launch\" book:\\n\\n1. Scarcity: Creating a sense of urgency by limiting the availability of the product or service being launched.\\n2. Authority: Establishing oneself as an expert or authority in the industry to build credibility and trust with the audience.\\n3. Social proof: Using testimonials, case studies, and other forms of social proof to demonstrate the effectiveness and value of the product or service.\\n4. Reciprocity: Offering something of value to the audience before asking for a sale or commitment.\\n5. Likeability: Building a personal connection with the audience and creating a likable persona to increase the chances of a sale.\\n6. Anticipation: Building anticipation and excitement leading up to the launch to generate buzz and increase interest in the product or service.\\n7. Exclusivity: Creating a feeling of exclusivity by offering early access or special deals to a select group of people.\\n8. Belonging: Creating a sense of community or belonging among the audience to increase engagement and loyalty to the brand.\\n9. Storytelling: Using storytelling to connect with the audience on an emotional level and make the product or service more relatable and memorable.\\n\\nBy leveraging these mental triggers, businesses can create an effective product launch strategy that resonates with their target audience and drives sales and growth.'},\n",
       "  {'role': 'human',\n",
       "   'content': 'Write a summary of why scarcity and urgency are the strongest mental triggers and have been the driving force behind many of our best performing campaigns over the last 8 years.'},\n",
       "  {'role': 'gpt',\n",
       "   'content': \"Scarcity and urgency are two of the strongest mental triggers in marketing because they create a sense of exclusivity and importance around a product or service. By creating a sense of limited availability or a deadline for a promotion, businesses can motivate customers to take action and make a purchase before it's too late.\\n\\nOver the last eight years, many businesses have leveraged these triggers in their marketing campaigns to great success. Scarcity and urgency have been used to sell everything from digital products to physical goods and services, and have proven to be highly effective in driving conversions and increasing revenue.\\n\\nThis is because scarcity and urgency tap into the natural human desire for instant gratification and fear of missing out (FOMO). When customers believe that they may miss out on a valuable opportunity if they don't act quickly, they are more likely to take action and make a purchase.\\n\\nFurthermore, scarcity and urgency can be combined with other mental triggers, such as social proof and authority, to create even more powerful marketing campaigns. By demonstrating the popularity and effectiveness of a product or service, businesses can increase the perceived value and urgency of a promotion, leading to even more sales and revenue.\\n\\nOverall, scarcity and urgency are powerful mental triggers that have been proven to drive results in marketing campaigns. By leveraging these triggers, businesses can create a sense of urgency and exclusivity around their products or services, motivating customers to take action and make a purchase before it's too late.\"},\n",
       "  {'role': 'human',\n",
       "   'content': \"Summarize Russell Brunson's Perfect Webinar Script...\"},\n",
       "  {'role': 'gpt',\n",
       "   'content': \"Russell Brunson's Perfect Webinar Script is a framework for delivering webinars that are designed to sell a product or service. Here are the key components of the Perfect Webinar Script:\\n\\n1. Introduction: The webinar starts with an introduction that establishes the presenter's credibility and establishes the topic.\\n2. Story: The presenter then tells a personal story that is related to the topic and establishes a connection with the audience.\\n3. Content: The presenter provides valuable content related to the topic, demonstrating their expertise and building trust with the audience.\\n4. Offer: The presenter then introduces the product or service they are selling, explaining how it solves the audience's problem and providing social proof to support their claims.\\n5. Bonuses: The presenter offers bonuses to sweeten the deal and make the offer more enticing.\\n6. Scarcity: The presenter creates a sense of urgency by limiting the availability of the offer or including a deadline for purchase.\\n7. FAQs: The presenter answers common questions about the offer, addressing objections and building trust with the audience.\\n8. Closing: The presenter then delivers a clear call to action, directing the audience to take a specific action to purchase the product or service.\\n\\nOverall, the Perfect Webinar Script is designed to build trust with the audience, establish the presenter's credibility, and provide valuable content, while also creating a sense of urgency and scarcity around the offer being presented. By following this framework, businesses can use webinars as a powerful tool to sell their products and services to a targeted audience.\"}],\n",
       " 'messages_ko': [{'role': 'human',\n",
       "   'content': \" 제프 워커의 '프로덕트 런치 공식'의 주요 아이디어들을 그들이 고객들을 위한 전략과 전술을 구현하는 성장 마케팅 기업에 적용하는 부분에서 줄거리 형태의 백트레인 포인트로 요약해주세요...\"},\n",
       "  {'role': 'gpt',\n",
       "   'content': \" 제프 워커의 '프로덕트 런치 포뮬러'의 주요 아이디어들로, 성장 마케팅사의 고객들을 위해 적용할 수 있는 방법을 알려드리겠습니다:\\n\\n1. 대상 고객 및 그들의 필요성 파악: 제품이나 서비스의 이상적인 고객을 이해하고 그들에게 맞는 메시지를 만드는 것.\\n2. 프로모션 전: 제품 출시를 기대하게 하며, 홍보를 하고 증언과 사례 연구를 수집하며, 소셜 미디어를 이용하여 인지도를 높이는 것.\\n3. 출시: 최적화된 출시 시퀀스를 사용하여 판매와 전환율을 최대화하는 것. 이는 보너스 제공, 가격 경쟁력 강화, 마감일을 이용하여 긴급성을 창출하는 것.\\n4. 후출시: 고객에게 연락하며 피드백을 수집하고, 그들을 계속해서 가치를 제공하여 참여하고 충성도를 유지하는 것.\\n5. 제품 세트 생성: 초기 제품이 성공하면, 같은 대상에게 다른 필요를 충족시키는 추가 제품 또는 서비스를 제공하는 것.\\n6. 지속적인 최적화: 출시 과정과 제품 세트를 지속적으로 모니터링하고 최적화하여 결과를 개선하는 것.\\n7. 커뮤니티 생성: 출시 과정을 통해 제품에 열정을 가진 고객들로 구성된 커뮤니티를 만드는 것.\\n8. 자동화 사용: 기술과 자동화를 이용하여 출시 과정을 단순화하고 효율성을 높이는 것.\"},\n",
       "  {'role': 'human',\n",
       "   'content': \" 브렌дон 버치어드의 '프로페셔널 아카데미'의 핵심 아이디어를 성장 마케팅 기업이 고객들에게 이러한 전략과 전술을 적용하면서 적용하는 방법에 대한 조각별 요약으로 번역해 주세요...\"},\n",
       "  {'role': 'gpt',\n",
       "   'content': ' Brendon Burchard의 Experts Academy의 주요 아이디어들 중에서 성장 마케팅 기업이 고객들을 위해 적용할 수 있는 부분들이 있습니다:\\n\\n1. 전문성을 파악하기: 전문 분야를 정의하고 다른 사람과는 구별되는 독특한 가치 제안을 만드세요.\\n2. 콘텐츠 전략 작성하기: 전문성을 보여주고 고객에게 가치를 제공하는 콘텐츠 전략을 개발하세요. 이는 블로그 포스트, 비디오, 퍼시픽스, 그리고 소셜 미디어 콘텐츠 등을 포함할 수 있습니다.\\n3. 관객 형성하기: 소셜 미디어, 광고, 다른 채널을 통해 관객을 형성하고 시장에서의 지식력을 높이세요.\\n4. 제품 개발하기: 전문성을 맞추고 고객의 요구를 충족시킬 수 있는 제품과 서비스를 만드세요. 이는 디지털 제품, 코스, 코칭, 컨설팅 서비스 등을 포함할 수 있습니다.\\n5. 브랜드 개발하기: 전문성을 반영하고 고객에게 호응하는 강력한 브랜드를 개발하세요.\\n6. 권위 확립하기: 이벤트에 발표하거나 책을 출간하거나 키보드 또는 TV 쇼에 출연하여 산업의 권위를 확립하세요.\\n7. 전문성을 활용한 수익화하기: 전문성과 제품을 활용하여 수익을 창출하는 수익화 전략을 개발하세요.\\n8. 팀을 구축하기: 사업이 성장하면 고객들에게 최고의 서비스를 제공할 수 있도록 전문가 팀을 구축하세요.\\n9. 지속적인 개선하기: 제품, 서비스, 마케팅 전략을 지속적으로 개선하여 경쟁력을 유지하고 고객에게 최고의 경험을 제공하세요.\\n10. 영향력에 집중하기: 결국, 고객들의 삶에 긍정적인 영향을 미치고 전문성을 활용하여 세상에 차별을 둠을 목표로 하세요.'},\n",
       "  {'role': 'human',\n",
       "   'content': ' 제프 워커의 \\'상품 출시 공식\\'과 \"런치\" 책에서的大脑引发电力는 무엇인가요?'},\n",
       "  {'role': 'gpt',\n",
       "   'content': \" 제프 워커의 '프로덕트 런치 포뮬러'와 '런치' 책에서 설명된 정신적인 트리거들이 있습니다:\\n\\n1. 부족함: 제품이나 서비스의 출시를 제한함으로써 긴급감을 창출하여.\\n2. 권위: 자신을 업계의 전문가나 권위로 만들어 AUDIENCE의 신뢰와 신뢰를 구축합니다.\\n3. 사회 증거: 테스트미네이트, 사례 연구 및 다른 형태의 사회 증거를 사용하여 제품이나 서비스의 효력과 가치를 입증합니다.\\n4. 반응성: 판매나 합의를 청구하기 전에 AUDIENCE에게 가치가 있는 것을 제공하는 것.\\n5. 즐거움: AUDIENCE와 개인적인 연결을 구축하고 즐길 만한 인물로 만드는 것. 판매의 기회를 높입니다.\\n6. 기대: 출시를 앞두고 기대와 설렘을 조성하여 화제를 조성하고 제품이나 서비스에 대한 관심을 높입니다.\\n7. 배려: 특정 그룹의 사람들을 위한 특별한 혜택이나 일찍 접근할 수 있는 기회를 제공하여 독특함을 창출합니다.\\n8. 속박: AUDIENCE 사이에서 커뮤니티나 속박감을 창출하여 브랜드에 대한 참여와 충성도를 증가시킵니다.\\n9. 전설: 감정적인 수준에서 AUDIENCE와 연결하고 제품이나 서비스를 더 유사하고 기억하기 쉬운 것으로 만들기 위한 전설을 사용합니다.\\n\\n이러한 정신적인 트리거를 활용함으로써 기업은 효과적인 제품 출시 전략을 만들어 AUDIENCE의 목표를 달성하고 판매 및 성장을 촉진할 수 있습니다.\"},\n",
       "  {'role': 'human',\n",
       "   'content': ' 8년 동안 우리의 가장 성공적인 캠페인들이 과연 왜 부족과 긴급성이 가장 강력한 심리적 트리거이며, 이를 통해 우리의 캠페인들이 동기부여를 받았는지 요약해 보겠습니다.'},\n",
       "  {'role': 'gpt',\n",
       "   'content': ' 수급 불균형과 긴급성은 마케팅에서 가장 강력한 정신적 트리거 중 두 가지입니다. 이러한 트리거는 제품이나 서비스에 대한 독점적이고 중요하게 여겨지는 인식을 창출하여 고객을 유혹합니다. 제한된 공급이나 마케팅 캠페인의 마감일을 만들어내면, 기업은 고객을 마지막 순간에까지 대기하지 않도록 동기 부여하여 구매를 유도할 수 있습니다.\\n\\n최근 8년 동안 많은 기업들이 이러한 트리거를 마케팅 캠페인에 활용하여 큰 성공을 거두었습니다. 수급 불균형과 긴급성은 디지털 제품부터 물리적인 물건, 서비스까지 모든 것을 판매하며, 판매 및 수익 증대에 높은 효율성을 입증하였습니다.\\n\\n이것은 바로 인간의 당장의 보람을 추구하고 놓친 것에 대한 두려움(FOMO)과 같은 본능적인 욕구를 자극하는 원인입니다. 고객이 빠른 시간 내에 행동하지 않으면 소중한 기회를 놓칠 수 있다는 믿음이 있다면, 그들은 더 빨리 행동하고 구매를 할 가능성이 높아집니다.\\n\\n더불어, 수급 불균형과 긴급성은 사회 증거와 권위와 같은 다른 정신적 트리거를 결합하여 더욱 강력한 마케팅 캠페인을 만드는 데 사용될 수 있습니다. 제품이나 서비스의 인기와 효과를 보여주면 기업은 마케팅 캠페인의 중요성을 더욱 상승시키고, 더 많은 판매와 수익을 기대하게 할 수 있습니다.\\n\\n전반적으로, 수급 불균형과 긴급성은 마케팅 캠페인에서 입증된 결과를 유도하는 강력한 정신적 트리거입니다. 이러한 트리거를 활용하면 기업은 제품이나 서비스에 대한 긴급성과 독점적인 인식을 만들 수 있습니다. 고객이 마지막 순간에까지 대기하지 않도록 동기 부여하여 구매를 유도할 수 있습니다.'},\n",
       "  {'role': 'human', 'content': \" 루스번슨의 'Perfect Webinar Script'을 요약해주세요...\"},\n",
       "  {'role': 'gpt',\n",
       "   'content': \" 루스웰 브런슨의 'Perfect 웹 세미나 스크립트'는 제품이나 서비스를 판매하기 위한 웹 세미나를 설계하는 프레임워크입니다. 다음은 Perfect 웹 세미나 스크립트의 핵심 구성요소들입니다:\\n\\n1. 소개: 웹 세미나는 강사의 신뢰성을 확립하고 주제를 설정하는 소개로 시작됩니다.\\n2. 스토리: 강사는 주제와 관련된 개인적인 스토리를 말하며 대중과 연결을 형성합니다.\\n3. 콘텐츠: 강사는 관련된 값진 콘텐츠를 제공하여, 자신의 전문성을 보여주고 대중에게 신뢰를 쌓습니다.\\n4. 제안: 강사는 판매하고 있는 제품이나 서비스를 소개하며, 대중이 겪는 문제를 해결하고 주장에 대한 사회 증거를 제공합니다.\\n5. 보너스: 강사는 더 매력적인 제안을 하기 위해 보너스를 제공합니다.\\n6. 부족: 제안의 유통이 한정되어있거나 구매에 대한 기한을 포함하여 긴급감을 창출합니다.\\n7. Q&A: 강사는 제안에 대한 일반적인 질문에 대한 답을 제공하며, 대중과 신뢰를 쌓습니다.\\n8. 결론: 강사는 구체적인 행동을 권장하며, 제품이나 서비스를 구매하도록 지시합니다.\\n\\n전체적으로, Perfect 웹 세미나 스크립트는 대중에게 신뢰를 구축하고 강사의 신뢰성을 확립하며, 값진 콘텐츠를 제공하면서도 제시되는 제안에 대한 긴급감과 부족을 창출합니다. 이 프레임워크를 따르면 기업들은 웹 세미나를 훌륭한 도구로 사용하여 타겟 고객을 위한 제품과 서비스를 판매할 수 있습니다.\"}]}"
      ]
     },
     "execution_count": 2,
     "metadata": {},
     "output_type": "execute_result"
    }
   ],
   "source": [
    "items = list(jsonlines.open(\"evol196k_ko.json\"))\n",
    "items[0]"
   ]
  },
  {
   "cell_type": "code",
   "execution_count": 7,
   "metadata": {},
   "outputs": [
    {
     "name": "stdout",
     "output_type": "stream",
     "text": [
      "{'this': 2, 'text': 4, 'for': 2, 'finding': 2, 'repeated': 4, 'n-grams': 2}\n"
     ]
    }
   ],
   "source": [
    "from collections import Counter\n",
    "\n",
    "def generate_word_ngrams(text, n):\n",
    "    words = text.split()\n",
    "    ngrams = [' '.join(words[i:i+n]) for i in range(len(words)-n+1)]\n",
    "    return ngrams\n",
    "\n",
    "def find_repeated_word_ngrams(text, n, min_repeats):\n",
    "    ngrams = generate_word_ngrams(text, n)\n",
    "    ngram_counts = Counter(ngrams)\n",
    "    \n",
    "    repeated_ngrams = {ngram: count for ngram, count in ngram_counts.items() if count >= min_repeats}\n",
    "    \n",
    "    return repeated_ngrams\n",
    "\n",
    "# 예시 문자열과 word n-gram 크기 및 반복 기준 설정\n",
    "text = \"this is a test text for finding repeated n-grams in this text text text for finding repeated repeated repeated n-grams\"\n",
    "n = 2\n",
    "min_repeats = 2\n",
    "\n",
    "# 반복되는 word n-gram 찾기\n",
    "# repeated_ngrams = find_repeated_word_ngrams(text, n, min_repeats)\n",
    "# print(repeated_ngrams)\n",
    "repeated_ngrams = find_repeated_word_ngrams(text, 1, min_repeats)\n",
    "print(repeated_ngrams)\n"
   ]
  },
  {
   "cell_type": "code",
   "execution_count": 9,
   "metadata": {},
   "outputs": [
    {
     "name": "stdout",
     "output_type": "stream",
     "text": [
      "The maximum number of consecutive 'repeated' is: 5\n"
     ]
    }
   ],
   "source": [
    "def find_consecutive_word_repeats(text, target_word):\n",
    "    words = text.split()\n",
    "    max_repeats = 0\n",
    "    current_repeats = 0\n",
    "    \n",
    "    for word in words:\n",
    "        if word == target_word:\n",
    "            current_repeats += 1\n",
    "            if current_repeats > max_repeats:\n",
    "                max_repeats = current_repeats\n",
    "        else:\n",
    "            current_repeats = 0\n",
    "    \n",
    "    return max_repeats\n",
    "\n",
    "# 예시 문자열과 타겟 단어 설정\n",
    "text = \"this is a test text for finding repeated repeated repeated n-grams in this text text text text for finding repeated repeated repeated repeated repeated n-grams\"\n",
    "target_word = \"repeated\"\n",
    "\n",
    "# 연속 등장 횟수 찾기\n",
    "max_repeats = find_consecutive_word_repeats(text, target_word)\n",
    "print(f\"The maximum number of consecutive '{target_word}' is: {max_repeats}\")\n"
   ]
  },
  {
   "cell_type": "code",
   "execution_count": 14,
   "metadata": {},
   "outputs": [
    {
     "name": "stdout",
     "output_type": "stream",
     "text": [
      "The text contains foreign language characters.\n",
      "Foreign characters found: これはテスト文です。\n"
     ]
    }
   ],
   "source": [
    "import re\n",
    "\n",
    "def contains_foreign_language(text):\n",
    "    # 영어, 한글, 숫자, 공백, 일반적인 기호 및 아스키 문자를 제외한 문자를 찾는 정규식\n",
    "    pattern = re.compile(r'[^a-zA-Z0-9가-힣\\s.,?!:;\\'\"()\\-@#$%^&*]', re.UNICODE)\n",
    "    \n",
    "    # 패턴에 매칭되는 문자가 있는지 확인\n",
    "    foreign_chars = pattern.findall(text)\n",
    "    \n",
    "    # 결과 반환\n",
    "    return len(foreign_chars) > 0, foreign_chars\n",
    "\n",
    "# 예시 문자열\n",
    "text = \"This is a test 문장. 이것은 테스트 문장입니다. これはテスト文です。12345!@#$$%^&*()\"\n",
    "\n",
    "# 외국어 텍스트 포함 여부 확인\n",
    "has_foreign, foreign_chars = contains_foreign_language(text)\n",
    "if has_foreign:\n",
    "    print(\"The text contains foreign language characters.\")\n",
    "    print(f\"Foreign characters found: {''.join(foreign_chars)}\")\n",
    "else:\n",
    "    print(\"The text does not contain foreign language characters.\")\n"
   ]
  },
  {
   "cell_type": "code",
   "execution_count": 18,
   "metadata": {},
   "outputs": [
    {
     "ename": "TypeError",
     "evalue": "string indices must be integers",
     "output_type": "error",
     "traceback": [
      "\u001b[0;31m---------------------------------------------------------------------------\u001b[0m",
      "\u001b[0;31mTypeError\u001b[0m                                 Traceback (most recent call last)",
      "Cell \u001b[0;32mIn[18], line 4\u001b[0m\n\u001b[1;32m      2\u001b[0m \u001b[38;5;28;01mfor\u001b[39;00m conv \u001b[38;5;129;01min\u001b[39;00m convs[\u001b[38;5;124m'\u001b[39m\u001b[38;5;124mmessages_ko\u001b[39m\u001b[38;5;124m'\u001b[39m]:\n\u001b[1;32m      3\u001b[0m     \u001b[38;5;28;01mfor\u001b[39;00m utt \u001b[38;5;129;01min\u001b[39;00m conv:\n\u001b[0;32m----> 4\u001b[0m         has_foreign, foreign_chars \u001b[38;5;241m=\u001b[39m contains_foreign_language(\u001b[43mutt\u001b[49m\u001b[43m[\u001b[49m\u001b[38;5;124;43m'\u001b[39;49m\u001b[38;5;124;43mcontent\u001b[39;49m\u001b[38;5;124;43m'\u001b[39;49m\u001b[43m]\u001b[49m)\n\u001b[1;32m      5\u001b[0m         \u001b[38;5;28;01mif\u001b[39;00m has_foreign:\n\u001b[1;32m      6\u001b[0m             \u001b[38;5;28mprint\u001b[39m(\u001b[38;5;124m\"\u001b[39m\u001b[38;5;124mThe text contains foreign language characters.\u001b[39m\u001b[38;5;124m\"\u001b[39m)\n",
      "\u001b[0;31mTypeError\u001b[0m: string indices must be integers"
     ]
    }
   ],
   "source": [
    "for convs in items:\n",
    "    for conv in convs['messages_ko']:\n",
    "        for utt in conv:\n",
    "            has_foreign, foreign_chars = contains_foreign_language(utt['content'])\n",
    "            if has_foreign:\n",
    "                print(\"The text contains foreign language characters.\")\n",
    "                print(f\"Foreign characters found: {''.join(foreign_chars)}\")\n",
    "                print(utt)\n",
    "                print()\n",
    "                break"
   ]
  }
 ],
 "metadata": {
  "kernelspec": {
   "display_name": "qax",
   "language": "python",
   "name": "python3"
  },
  "language_info": {
   "codemirror_mode": {
    "name": "ipython",
    "version": 3
   },
   "file_extension": ".py",
   "mimetype": "text/x-python",
   "name": "python",
   "nbconvert_exporter": "python",
   "pygments_lexer": "ipython3",
   "version": "3.10.13"
  }
 },
 "nbformat": 4,
 "nbformat_minor": 2
}
